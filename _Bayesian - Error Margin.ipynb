{
 "cells": [
  {
   "cell_type": "code",
   "execution_count": 2,
   "metadata": {
    "collapsed": true
   },
   "outputs": [],
   "source": [
    "import numpy as np \n",
    "import matplotlib.pyplot as plt\n",
    "from scipy.stats import norm"
   ]
  },
  {
   "cell_type": "markdown",
   "metadata": {},
   "source": [
    "The binomial distribution is suitable here because it expresses the number of success (number of people voting yes for example) from N Bernoulli trials (N independent individuals voting yes/no). It is also has little skewness (a good approximation of a bell curve) when N is large. Using this approximation - $\\mathcal{N}(x|np, np(1-p))$ (or its Taylor approximation alternatives for p: $\\mathcal{N}(p|\\bar{x}/n, (n-\\bar{x})\\bar{x}/n^3)$) we can confirm the $2\\%$ error margin for 95 percent CI of N=1000 and p=$10\\%$."
   ]
  },
  {
   "cell_type": "code",
   "execution_count": 8,
   "metadata": {},
   "outputs": [
    {
     "name": "stdout",
     "output_type": "stream",
     "text": [
      "Error margin for 0.1 is: 2%\n"
     ]
    },
    {
     "data": {
      "text/plain": [
       "(0.08140614903086316, 0.11859385096913685)"
      ]
     },
     "execution_count": 8,
     "metadata": {},
     "output_type": "execute_result"
    }
   ],
   "source": [
    "def CI_95(N, p): \n",
    "    mean_ = p\n",
    "    var_ = p*(1-p)/N\n",
    "    dist = norm(loc=mean_, scale=np.sqrt(var_))\n",
    "    margin = (dist.interval(0.95)[1]-p)*100\n",
    "    print('Error margin for {0} is: {1:0.0f}%'.format(str(p), margin))\n",
    "    x = np.linspace(0,1,1000)\n",
    "    plt.plot(x, dist.pdf(x), label=N)\n",
    "    return dist.interval(0.95)\n",
    "\n",
    "CI_95(1000,0.1)"
   ]
  },
  {
   "cell_type": "code",
   "execution_count": 9,
   "metadata": {},
   "outputs": [
    {
     "name": "stdout",
     "output_type": "stream",
     "text": [
      "Printing error margins for 100...\n",
      "Error margin for 0.1 is: 6%\n",
      "Error margin for 0.2 is: 8%\n",
      "Error margin for 0.3 is: 9%\n",
      "Error margin for 0.4 is: 10%\n",
      "Error margin for 0.5 is: 10%\n",
      "Error margin for 0.6 is: 10%\n",
      "Error margin for 0.7 is: 9%\n",
      "Error margin for 0.8 is: 8%\n",
      "Error margin for 0.9 is: 6%\n",
      "Printing error margins for 250...\n",
      "Error margin for 0.1 is: 4%\n",
      "Error margin for 0.2 is: 5%\n",
      "Error margin for 0.3 is: 6%\n",
      "Error margin for 0.4 is: 6%\n",
      "Error margin for 0.5 is: 6%\n",
      "Error margin for 0.6 is: 6%\n",
      "Error margin for 0.7 is: 6%\n",
      "Error margin for 0.8 is: 5%\n",
      "Error margin for 0.9 is: 4%\n",
      "Printing error margins for 500...\n",
      "Error margin for 0.1 is: 3%\n",
      "Error margin for 0.2 is: 4%\n",
      "Error margin for 0.3 is: 4%\n",
      "Error margin for 0.4 is: 4%\n",
      "Error margin for 0.5 is: 4%\n",
      "Error margin for 0.6 is: 4%\n",
      "Error margin for 0.7 is: 4%\n",
      "Error margin for 0.8 is: 4%\n",
      "Error margin for 0.9 is: 3%\n",
      "Printing error margins for 750...\n",
      "Error margin for 0.1 is: 2%\n",
      "Error margin for 0.2 is: 3%\n",
      "Error margin for 0.3 is: 3%\n",
      "Error margin for 0.4 is: 4%\n",
      "Error margin for 0.5 is: 4%\n",
      "Error margin for 0.6 is: 4%\n",
      "Error margin for 0.7 is: 3%\n",
      "Error margin for 0.8 is: 3%\n",
      "Error margin for 0.9 is: 2%\n",
      "Printing error margins for 1000...\n",
      "Error margin for 0.1 is: 2%\n",
      "Error margin for 0.2 is: 2%\n",
      "Error margin for 0.3 is: 3%\n",
      "Error margin for 0.4 is: 3%\n",
      "Error margin for 0.5 is: 3%\n",
      "Error margin for 0.6 is: 3%\n",
      "Error margin for 0.7 is: 3%\n",
      "Error margin for 0.8 is: 2%\n",
      "Error margin for 0.9 is: 2%\n"
     ]
    }
   ],
   "source": [
    "for i in [100,250,500,750,1000]:\n",
    "    print('Printing error margins for {}...'.format(str(i)))\n",
    "    for _ in [0.1,0.2,0.3,0.4,0.5,0.6,0.7,0.8,0.9]:\n",
    "        CI_95(i, _)"
   ]
  },
  {
   "cell_type": "code",
   "execution_count": 9,
   "metadata": {},
   "outputs": [
    {
     "name": "stdout",
     "output_type": "stream",
     "text": [
      "Error margin for 0.1 is: 6%\n",
      "Error margin for 0.1 is: 4%\n",
      "Error margin for 0.1 is: 3%\n",
      "Error margin for 0.1 is: 2%\n",
      "Error margin for 0.1 is: 2%\n"
     ]
    },
    {
     "data": {
      "image/png": "[encoded data removed]",
      "text/plain": [
       "<Figure size 864x432 with 1 Axes>"
      ]
     },
     "metadata": {},
     "output_type": "display_data"
    }
   ],
   "source": [
    "plt.figure(figsize=(12,6))\n",
    "\n",
    "for i in [100,250,500,750,1000]:\n",
    "    CI_95(i, 0.1)\n",
    "    \n",
    "plt.legend()\n",
    "plt.show()"
   ]
  },
  {
   "cell_type": "markdown",
   "metadata": {
    "collapsed": true
   },
   "source": [
    "I think the inconsistence between the normal approximations presented here compared to on the polling table in the link is because the table did not use a normal approximation of the binomial distribution but instead relies on the assumption that for large N the skewness of the binomial distribution is negligible and therefore it can be considered practically normal. Since the table is approximating a discrete distribution with a continuous distribution, a correction is needed and it is provided in the Laplace approximation. "
   ]
  },
  {
   "cell_type": "code",
   "execution_count": 10,
   "metadata": {},
   "outputs": [
    {
     "name": "stdout",
     "output_type": "stream",
     "text": [
      "Error margin for 0.1 is: 2%\n"
     ]
    },
    {
     "data": {
      "text/plain": [
       "(81.40614903086315, 118.59385096913685)"
      ]
     },
     "execution_count": 10,
     "metadata": {},
     "output_type": "execute_result"
    }
   ],
   "source": [
    "def CI_95_0correct(N, p): \n",
    "    mean_ = N*p\n",
    "    var_ = p*(1-p)*N\n",
    "    dist = norm(loc=mean_, scale=np.sqrt(var_))\n",
    "    margin = (dist.interval(0.95)[1]-mean_)/N*100\n",
    "    print('Error margin for {0} is: {1:0.0f}%'.format(str(p), margin))\n",
    "    x = np.linspace(0,1,1000)\n",
    "#     plt.plot(x, dist.pdf(x), label=N)\n",
    "    return dist.interval(0.95)\n",
    "\n",
    "CI_95_0correct(1000,0.1)"
   ]
  },
  {
   "cell_type": "code",
   "execution_count": 11,
   "metadata": {},
   "outputs": [
    {
     "name": "stdout",
     "output_type": "stream",
     "text": [
      "Printing error margins for 100...\n",
      "Error margin for 0.1 is: 6%\n",
      "Error margin for 0.2 is: 8%\n",
      "Error margin for 0.3 is: 9%\n",
      "Error margin for 0.4 is: 10%\n",
      "Error margin for 0.5 is: 10%\n",
      "Error margin for 0.6 is: 10%\n",
      "Error margin for 0.7 is: 9%\n",
      "Error margin for 0.8 is: 8%\n",
      "Error margin for 0.9 is: 6%\n",
      "Printing error margins for 250...\n",
      "Error margin for 0.1 is: 4%\n",
      "Error margin for 0.2 is: 5%\n",
      "Error margin for 0.3 is: 6%\n",
      "Error margin for 0.4 is: 6%\n",
      "Error margin for 0.5 is: 6%\n",
      "Error margin for 0.6 is: 6%\n",
      "Error margin for 0.7 is: 6%\n",
      "Error margin for 0.8 is: 5%\n",
      "Error margin for 0.9 is: 4%\n",
      "Printing error margins for 500...\n",
      "Error margin for 0.1 is: 3%\n",
      "Error margin for 0.2 is: 4%\n",
      "Error margin for 0.3 is: 4%\n",
      "Error margin for 0.4 is: 4%\n",
      "Error margin for 0.5 is: 4%\n",
      "Error margin for 0.6 is: 4%\n",
      "Error margin for 0.7 is: 4%\n",
      "Error margin for 0.8 is: 4%\n",
      "Error margin for 0.9 is: 3%\n",
      "Printing error margins for 750...\n",
      "Error margin for 0.1 is: 2%\n",
      "Error margin for 0.2 is: 3%\n",
      "Error margin for 0.3 is: 3%\n",
      "Error margin for 0.4 is: 4%\n",
      "Error margin for 0.5 is: 4%\n",
      "Error margin for 0.6 is: 4%\n",
      "Error margin for 0.7 is: 3%\n",
      "Error margin for 0.8 is: 3%\n",
      "Error margin for 0.9 is: 2%\n",
      "Printing error margins for 1000...\n",
      "Error margin for 0.1 is: 2%\n",
      "Error margin for 0.2 is: 2%\n",
      "Error margin for 0.3 is: 3%\n",
      "Error margin for 0.4 is: 3%\n",
      "Error margin for 0.5 is: 3%\n",
      "Error margin for 0.6 is: 3%\n",
      "Error margin for 0.7 is: 3%\n",
      "Error margin for 0.8 is: 2%\n",
      "Error margin for 0.9 is: 2%\n"
     ]
    }
   ],
   "source": [
    "for i in [100,250,500,750,1000]:\n",
    "    print('Printing error margins for {}...'.format(str(i)))\n",
    "    for _ in [0.1,0.2,0.3,0.4,0.5,0.6,0.7,0.8,0.9]:\n",
    "        CI_95_0correct(i, _)"
   ]
  }
 ],
 "metadata": {
  "kernelspec": {
   "display_name": "Python 3",
   "language": "python",
   "name": "python3"
  },
  "language_info": {
   "codemirror_mode": {
    "name": "ipython",
    "version": 3
   },
   "file_extension": ".py",
   "mimetype": "text/x-python",
   "name": "python",
   "nbconvert_exporter": "python",
   "pygments_lexer": "ipython3",
   "version": "3.6.6"
  }
 },
 "nbformat": 4,
 "nbformat_minor": 2
}
