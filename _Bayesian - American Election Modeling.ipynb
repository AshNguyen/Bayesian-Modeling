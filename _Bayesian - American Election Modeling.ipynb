{
 "cells": [
  {
   "cell_type": "code",
   "execution_count": 1,
   "metadata": {},
   "outputs": [],
   "source": [
    "from scipy import stats\n",
    "import numpy as np\n",
    "import matplotlib.pyplot as plt\n",
    "import pystan"
   ]
  },
  {
   "cell_type": "code",
   "execution_count": 2,
   "metadata": {},
   "outputs": [
    {
     "name": "stdout",
     "output_type": "stream",
     "text": [
      "Modeling 5 states with 38 electoral college votes\n"
     ]
    }
   ],
   "source": [
    "electoral_votes = {\n",
    "    'Alabama': 9,\n",
    "    'Alaska': 3,\n",
    "    'Arizona': 11,\n",
    "    'Arkansas': 6,\n",
    "    'Colorado': 9,\n",
    "}\n",
    "\n",
    "survey_results = {\n",
    "    'Alabama': np.array([], dtype=int).reshape(0, 4),\n",
    "    'Alaska': np.array([400 * np.array([.47, .43, .07, .03]), 500 * np.array([.36, .37, .07, .03]), 500 * np.array([.34, .37, .10, .02]), 660 * np.array([.31, .36, .18, .06])], dtype=int),\n",
    "    'Arizona': np.array([392 * np.array([.45, .47, .05, .02]), 550 * np.array([.39, .47, .04, .03]), 719 * np.array([.40, .45, .09, .03]), 769 * np.array([.44, .49, .05, .01]), 2229 * np.array([.45, .44, .07, .01]), 700 * np.array([.43, .47, .02, .02]), 550 * np.array([.41, .45, .03, .01]), 994 * np.array([.42, .44, .04, .01]), 550 * np.array([.40, .42, .05, .02]), 2385 * np.array([.48, .46, .05, .01]), 401 * np.array([.45, .46, .04, .01]), 550 * np.array([.41, .41, .05, .02]), 1538 * np.array([.39, .44, .06, .02]), 713 * np.array([.43, .38, .06, .01]), 400 * np.array([.39, .37, .08, .03]), 600 * np.array([.44, .42, .09, .01]), 718 * np.array([.42, .42, .05, .01]), 484 * np.array([.41, .46, .09, .01]), 649 * np.array([.38, .40, .12, .03])], dtype=int),\n",
    "    'Arkansas': np.array([463 * np.array([.33, .56, .04, .02]), 831 * np.array([.34, .55, .03, .01]), 600 * np.array([.29, .57, .05, .03])], dtype=int),\n",
    "    'Colorado': np.array([1150 * np.array([.45, .44, .05, .04]), 500 * np.array([.44, .38, .07, .02]), 550 * np.array([.39, .39, .05, .04]), 750 * np.array([.44, .41, .08, .04]), 685 * np.array([.45, .37, .10, .03]), 400 * np.array([.49, .38, .07, .03]), 602 * np.array([.44, .33, .10, .03]), 694 * np.array([.46, .40, .06, .02]), 784 * np.array([.41, .42, .13, .03]), 991 * np.array([.40, .39, .07, .02]), 644 * np.array([.44, .42, .10, .02]), 540 * np.array([.41, .34, .12, .03]), 600 * np.array([.38, .42, .13, .02]), 704 * np.array([.48, .43, .04, .02]), 605 * np.array([.43, .38, .07, .02]), 997 * np.array([.42, .39, .07, .02])], dtype=int),\n",
    "}\n",
    "\n",
    "states = sorted(survey_results.keys())\n",
    "print('Modeling', len(states), 'states with', sum(electoral_votes[s] for s in states), 'electoral college votes')"
   ]
  },
  {
   "cell_type": "code",
   "execution_count": 3,
   "metadata": {},
   "outputs": [
    {
     "name": "stderr",
     "output_type": "stream",
     "text": [
      "INFO:pystan:COMPILING THE C++ CODE FOR MODEL anon_model_5f6f97d0de7367dfddef8c01864c8d88 NOW.\n",
      "/Users/ash/anaconda3/lib/python3.6/site-packages/Cython/Compiler/Main.py:367: FutureWarning: Cython directive 'language_level' not set, using 2 for now (Py2). This will change in a later release! File: /var/folders/kg/zv3bhpmx19s5f8hsk7h4_wnc0000gn/T/tmp_n69ownd/stanfit4anon_model_5f6f97d0de7367dfddef8c01864c8d88_974925277602313420.pyx\n",
      "  tree = Parsing.p_module(s, pxd, full_module_name)\n"
     ]
    }
   ],
   "source": [
    "stan_code = '''\n",
    "\n",
    "data {\n",
    "    int<lower=1> N; //Number of polls\n",
    "    int<lower=1> C; //Number of candidates\n",
    "    int<lower=0> poll_re[N,C];\n",
    "}\n",
    "\n",
    "parameters {\n",
    "    vector<lower=0>[C] alpha;   // alpha drawn from the Cauchy distribution\n",
    "    simplex[C] theta[N];\n",
    "}\n",
    "\n",
    "model {\n",
    "    alpha ~ cauchy(0, 1);\n",
    "    for (i in 1:N) {\n",
    "        theta[i] ~ dirichlet(alpha);\n",
    "        poll_re[i] ~ multinomial(theta[i]);\n",
    "    }\n",
    "    \n",
    "}\n",
    "'''\n",
    "\n",
    "stan_model = pystan.StanModel(model_code=stan_code)"
   ]
  },
  {
   "cell_type": "code",
   "execution_count": 4,
   "metadata": {},
   "outputs": [
    {
     "name": "stdout",
     "output_type": "stream",
     "text": [
      "Inference for Stan model: anon_model_5f6f97d0de7367dfddef8c01864c8d88.\n",
      "4 chains, each with iter=2000; warmup=1000; thin=1; \n",
      "post-warmup draws per chain=1000, total post-warmup draws=4000.\n",
      "\n",
      "             mean se_mean     sd   2.5%    25%    50%    75%  97.5%  n_eff   Rhat\n",
      "alpha[1]    13.07    0.24   8.05   3.06   7.18  11.21  16.79  33.67   1081   1.01\n",
      "alpha[2]    13.61    0.26   8.35   3.23   7.62  11.57   17.6  35.47   1050   1.01\n",
      "alpha[3]     3.67    0.07   2.25   0.94   2.04   3.15    4.7   9.49   1103   1.01\n",
      "alpha[4]     1.49    0.02   0.81   0.44   0.92   1.32   1.88   3.56   1262   1.01\n",
      "theta[1,1]   0.47  3.7e-4   0.03   0.42   0.45   0.47   0.48   0.51   4691    1.0\n",
      "theta[2,1]   0.43  3.5e-4   0.02   0.39   0.42   0.43   0.45   0.48   4778    1.0\n",
      "theta[3,1]   0.41  3.5e-4   0.02   0.36   0.39   0.41   0.43   0.46   4892    1.0\n",
      "theta[4,1]   0.34  3.0e-4   0.02   0.31   0.33   0.34   0.36   0.38   4319    1.0\n",
      "theta[1,2]   0.43  3.5e-4   0.02   0.38   0.41   0.43   0.45   0.48   5002    1.0\n",
      "theta[2,2]   0.44  3.4e-4   0.02    0.4   0.43   0.44   0.46   0.49   4822    1.0\n",
      "theta[3,2]   0.44  3.4e-4   0.02    0.4   0.43   0.44   0.46   0.49   4890    1.0\n",
      "theta[4,2]    0.4  2.9e-4   0.02   0.36   0.38    0.4   0.41   0.44   4554    1.0\n",
      "theta[1,3]   0.07  1.9e-4   0.01   0.05   0.06   0.07   0.08    0.1   4439    1.0\n",
      "theta[2,3]   0.09  1.9e-4   0.01   0.06   0.08   0.09   0.09   0.11   5061    1.0\n",
      "theta[3,3]   0.12  2.2e-4   0.02   0.09   0.11   0.12   0.13   0.15   5338    1.0\n",
      "theta[4,3]   0.19  2.4e-4   0.02   0.16   0.18   0.19    0.2   0.23   4637    1.0\n",
      "theta[1,4]   0.03  1.2e-4 8.4e-3   0.02   0.03   0.03   0.04   0.05   5054    1.0\n",
      "theta[2,4]   0.04  1.3e-4 9.4e-3   0.02   0.03   0.04   0.04   0.06   5283    1.0\n",
      "theta[3,4]   0.03  1.2e-4 7.6e-3   0.01   0.02   0.03   0.03   0.04   4108    1.0\n",
      "theta[4,4]   0.06  1.4e-4   0.01   0.05   0.06   0.06   0.07   0.08   5131    1.0\n",
      "lp__        -2042    0.07   2.97  -2049  -2044  -2042  -2040  -2038   1643    1.0\n",
      "\n",
      "Samples were drawn using NUTS at Tue Oct 23 17:29:40 2018.\n",
      "For each parameter, n_eff is a crude measure of effective sample size,\n",
      "and Rhat is the potential scale reduction factor on split chains (at \n",
      "convergence, Rhat=1).\n"
     ]
    }
   ],
   "source": [
    "stan_data_AL = {\n",
    "    'N': survey_results['Alaska'].shape[0],\n",
    "    'C': survey_results['Alaska'].shape[1],\n",
    "    'poll_re': survey_results['Alaska']\n",
    "}\n",
    "results_AL = stan_model.sampling(data=stan_data_AL)\n",
    "print(results_AL)"
   ]
  },
  {
   "cell_type": "code",
   "execution_count": 5,
   "metadata": {},
   "outputs": [
    {
     "name": "stdout",
     "output_type": "stream",
     "text": [
      "Inference for Stan model: anon_model_5f6f97d0de7367dfddef8c01864c8d88.\n",
      "4 chains, each with iter=2000; warmup=1000; thin=1; \n",
      "post-warmup draws per chain=1000, total post-warmup draws=4000.\n",
      "\n",
      "              mean se_mean     sd   2.5%    25%    50%    75%  97.5%  n_eff   Rhat\n",
      "alpha[1]     88.99    0.74  25.38  49.39  71.16  85.56 102.85 148.72   1187    1.0\n",
      "alpha[2]     92.49    0.76  26.38  51.62  73.96  89.03 107.17 154.16   1214    1.0\n",
      "alpha[3]     12.09     0.1    3.5   6.69   9.64  11.64  13.99   20.4   1221    1.0\n",
      "alpha[4]      3.51    0.03    1.0   1.93    2.8   3.39   4.05    5.9   1276    1.0\n",
      "theta[1,1]    0.45  2.5e-4   0.02   0.41   0.44   0.45   0.47   0.49   7199    1.0\n",
      "theta[2,1]    0.43  2.1e-4   0.02   0.39   0.42   0.43   0.44   0.47   8233    1.0\n",
      "theta[3,1]    0.42  1.7e-4   0.02   0.39   0.41   0.42   0.43   0.45   9088    1.0\n",
      "theta[4,1]    0.45  1.9e-4   0.02   0.41   0.44   0.45   0.46   0.48   7347    1.0\n",
      "theta[5,1]    0.46  1.1e-4   0.01   0.44   0.46   0.46   0.47   0.48   8520    1.0\n",
      "theta[6,1]    0.46  2.1e-4   0.02   0.42   0.44   0.46   0.47   0.49   6947    1.0\n",
      "theta[7,1]    0.46  2.2e-4   0.02   0.42   0.44   0.46   0.47   0.49   7648    1.0\n",
      "theta[8,1]    0.46  1.9e-4   0.02   0.43   0.45   0.46   0.47   0.49   7018    1.0\n",
      "theta[9,1]    0.45  2.2e-4   0.02   0.41   0.44   0.45   0.46   0.49   7982    1.0\n",
      "theta[10,1]   0.48  1.1e-4 9.9e-3   0.46   0.47   0.48   0.48    0.5   7997    1.0\n",
      "theta[11,1]   0.46  2.5e-4   0.02   0.42   0.45   0.46   0.48   0.51   7444    1.0\n",
      "theta[12,1]   0.46  2.1e-4   0.02   0.42   0.45   0.46   0.47    0.5   8198    1.0\n",
      "theta[13,1]   0.43  1.4e-4   0.01   0.41   0.42   0.43   0.44   0.46   8271    1.0\n",
      "theta[14,1]   0.48  2.0e-4   0.02   0.45   0.47   0.48   0.49   0.52   8046    1.0\n",
      "theta[15,1]   0.45  2.7e-4   0.02   0.41   0.43   0.45   0.46   0.49   6445    1.0\n",
      "theta[16,1]   0.46  2.1e-4   0.02   0.42   0.44   0.46   0.47   0.49   7469    1.0\n",
      "theta[17,1]   0.46  1.8e-4   0.02   0.43   0.45   0.46   0.48    0.5   8942    1.0\n",
      "theta[18,1]   0.43  2.3e-4   0.02   0.39   0.42   0.43   0.44   0.47   7634    1.0\n",
      "theta[19,1]   0.42  2.2e-4   0.02   0.38   0.41   0.42   0.43   0.45   6601    1.0\n",
      "theta[1,2]    0.47  2.5e-4   0.02   0.43   0.46   0.47   0.49   0.52   7483    1.0\n",
      "theta[2,2]     0.5  2.2e-4   0.02   0.46   0.48    0.5   0.51   0.53   7373    1.0\n",
      "theta[3,2]    0.47  1.7e-4   0.02   0.43   0.45   0.47   0.48    0.5   9163    1.0\n",
      "theta[4,2]    0.49  2.0e-4   0.02   0.46   0.48   0.49    0.5   0.52   6687    1.0\n",
      "theta[5,2]    0.45  1.2e-4   0.01   0.43   0.45   0.45   0.46   0.47   7136    1.0\n",
      "theta[6,2]    0.49  2.1e-4   0.02   0.46   0.48   0.49    0.5   0.53   7092    1.0\n",
      "theta[7,2]    0.49  2.3e-4   0.02   0.45   0.48   0.49   0.51   0.53   6813    1.0\n",
      "theta[8,2]    0.48  1.9e-4   0.02   0.45   0.47   0.48   0.49   0.51   6947    1.0\n",
      "theta[9,2]    0.47  2.1e-4   0.02   0.43   0.46   0.47   0.48   0.51   8311    1.0\n",
      "theta[10,2]   0.46  1.1e-4 9.8e-3   0.44   0.45   0.46   0.47   0.48   8192    1.0\n",
      "theta[11,2]   0.48  2.6e-4   0.02   0.43   0.46   0.48   0.49   0.52   6889    1.0\n",
      "theta[12,2]   0.46  2.1e-4   0.02   0.43   0.45   0.46   0.48    0.5   8277    1.0\n",
      "theta[13,2]   0.48  1.4e-4   0.01   0.46   0.47   0.48   0.49   0.51   8020    1.0\n",
      "theta[14,2]   0.44  2.0e-4   0.02   0.41   0.43   0.44   0.45   0.48   7989    1.0\n",
      "theta[15,2]   0.44  2.6e-4   0.02    0.4   0.43   0.44   0.46   0.48   6874    1.0\n",
      "theta[16,2]   0.45  2.3e-4   0.02   0.41   0.43   0.45   0.46   0.48   6623    1.0\n",
      "theta[17,2]   0.47  1.8e-4   0.02   0.43   0.46   0.47   0.48    0.5   8712    1.0\n",
      "theta[18,2]   0.47  2.2e-4   0.02   0.43   0.46   0.47   0.49   0.51   8554    1.0\n",
      "theta[19,2]   0.44  2.0e-4   0.02    0.4   0.43   0.44   0.45   0.48   8103    1.0\n",
      "theta[1,3]    0.05  1.2e-4 9.7e-3   0.04   0.05   0.05   0.06   0.07   6824    1.0\n",
      "theta[2,3]    0.05  9.8e-5 8.2e-3   0.03   0.04   0.05   0.05   0.06   6926    1.0\n",
      "theta[3,3]    0.09  1.2e-4   0.01   0.07   0.08   0.09   0.09   0.11   7265    1.0\n",
      "theta[4,3]    0.05  9.0e-5 7.3e-3   0.04   0.05   0.05   0.06   0.07   6694    1.0\n",
      "theta[5,3]    0.07  5.9e-5 5.3e-3   0.06   0.07   0.07   0.07   0.08   8009    1.0\n",
      "theta[6,3]    0.03  9.7e-5 6.1e-3   0.02   0.03   0.03   0.03   0.04   3995    1.0\n",
      "theta[7,3]    0.04  1.0e-4 7.7e-3   0.03   0.04   0.04   0.05   0.06   5708    1.0\n",
      "theta[8,3]    0.05  7.8e-5 6.5e-3   0.03   0.04   0.05   0.05   0.06   6872    1.0\n",
      "theta[9,3]    0.06  9.9e-5 8.8e-3   0.04   0.05   0.06   0.06   0.08   7764    1.0\n",
      "theta[10,3]   0.05  4.9e-5 4.3e-3   0.04   0.05   0.05   0.05   0.06   8026    1.0\n",
      "theta[11,3]   0.05  1.1e-4 9.0e-3   0.03   0.04   0.05   0.05   0.07   6613    1.0\n",
      "theta[12,3]   0.06  1.1e-4 9.1e-3   0.04   0.05   0.06   0.06   0.08   7217    1.0\n",
      "theta[13,3]   0.07  7.3e-5 6.1e-3   0.05   0.06   0.07   0.07   0.08   7096    1.0\n",
      "theta[14,3]   0.07  9.6e-5 8.6e-3   0.05   0.06   0.07   0.07   0.08   8162    1.0\n",
      "theta[15,3]   0.08  1.5e-4   0.01   0.06   0.07   0.08   0.09   0.11   6388    1.0\n",
      "theta[16,3]   0.09  1.2e-4   0.01   0.07   0.08   0.08   0.09   0.11   6997    1.0\n",
      "theta[17,3]   0.06  8.6e-5 7.7e-3   0.04   0.05   0.06   0.06   0.07   8010    1.0\n",
      "theta[18,3]   0.08  1.3e-4   0.01   0.06   0.08   0.08   0.09   0.11   6578    1.0\n",
      "theta[19,3]   0.11  1.6e-4   0.01   0.09    0.1   0.11   0.12   0.14   5737    1.0\n",
      "theta[1,4]    0.02  6.1e-5 5.4e-3 9.0e-3   0.01   0.02   0.02   0.03   7757    1.0\n",
      "theta[2,4]    0.03  7.6e-5 6.4e-3   0.02   0.02   0.03   0.03   0.04   7120    1.0\n",
      "theta[3,4]    0.03  6.4e-5 5.6e-3   0.02   0.02   0.03   0.03   0.04   7821    1.0\n",
      "theta[4,4]    0.01  4.2e-5 3.3e-3 5.3e-3 8.7e-3   0.01   0.01   0.02   6417    1.0\n",
      "theta[5,4]    0.01  2.4e-5 2.2e-3 7.0e-3 9.3e-3   0.01   0.01   0.02   7846    1.0\n",
      "theta[6,4]    0.02  5.3e-5 4.8e-3   0.01   0.02   0.02   0.02   0.03   8012    1.0\n",
      "theta[7,4]    0.01  5.1e-5 4.3e-3 5.2e-3 9.1e-3   0.01   0.01   0.02   7033    1.0\n",
      "theta[8,4]    0.01  3.9e-5 3.2e-3 6.1e-3 9.1e-3   0.01   0.01   0.02   6643    1.0\n",
      "theta[9,4]    0.02  6.4e-5 5.5e-3   0.01   0.02   0.02   0.02   0.03   7454    1.0\n",
      "theta[10,4]   0.01  2.3e-5 2.0e-3 6.8e-3 8.9e-3   0.01   0.01   0.01   7505    1.0\n",
      "theta[11,4]   0.01  5.1e-5 4.7e-3 5.2e-3 9.5e-3   0.01   0.02   0.02   8648    1.0\n",
      "theta[12,4]   0.02  6.6e-5 5.5e-3   0.01   0.02   0.02   0.02   0.03   6972    1.0\n",
      "theta[13,4]   0.02  4.4e-5 3.8e-3   0.01   0.02   0.02   0.02   0.03   7404    1.0\n",
      "theta[14,4]   0.01  4.8e-5 3.9e-3 6.4e-3 9.9e-3   0.01   0.02   0.02   6337    1.0\n",
      "theta[15,4]   0.03  8.9e-5 7.5e-3   0.02   0.02   0.03   0.03   0.04   7063    1.0\n",
      "theta[16,4]   0.01  4.9e-5 4.1e-3 5.6e-3 9.4e-3   0.01   0.01   0.02   7017    1.0\n",
      "theta[17,4]   0.01  4.7e-5 4.0e-3 5.8e-3 9.7e-3   0.01   0.01   0.02   7110    1.0\n",
      "theta[18,4]   0.01  4.9e-5 4.1e-3 4.5e-3 8.3e-3   0.01   0.01   0.02   7171    1.0\n",
      "theta[19,4]   0.03  7.8e-5 5.9e-3   0.02   0.02   0.03   0.03   0.04   5704    1.0\n",
      "lp__        -1.4e4    0.18   6.04 -1.4e4 -1.4e4 -1.4e4 -1.4e4 -1.4e4   1165    1.0\n",
      "\n",
      "Samples were drawn using NUTS at Tue Oct 23 17:30:04 2018.\n",
      "For each parameter, n_eff is a crude measure of effective sample size,\n",
      "and Rhat is the potential scale reduction factor on split chains (at \n",
      "convergence, Rhat=1).\n"
     ]
    }
   ],
   "source": [
    "stan_data_AR = {\n",
    "    'N': survey_results['Arizona'].shape[0],\n",
    "    'C': survey_results['Arizona'].shape[1],\n",
    "    'poll_re': survey_results['Arizona']\n",
    "}\n",
    "results_AR = stan_model.sampling(data=stan_data_AR)\n",
    "print(results_AR)"
   ]
  },
  {
   "cell_type": "code",
   "execution_count": 12,
   "metadata": {},
   "outputs": [
    {
     "name": "stderr",
     "output_type": "stream",
     "text": [
      "WARNING:pystan:6 of 4000 iterations ended with a divergence (0.15%).\n",
      "WARNING:pystan:Try running with adapt_delta larger than 0.8 to remove the divergences.\n"
     ]
    },
    {
     "name": "stdout",
     "output_type": "stream",
     "text": [
      "Inference for Stan model: anon_model_5f6f97d0de7367dfddef8c01864c8d88.\n",
      "4 chains, each with iter=2000; warmup=1000; thin=1; \n",
      "post-warmup draws per chain=1000, total post-warmup draws=4000.\n",
      "\n",
      "             mean se_mean     sd   2.5%    25%    50%    75%  97.5%  n_eff   Rhat\n",
      "alpha[1]    19.33    0.42  15.31   2.62   8.39  15.06  25.71  60.35   1331    1.0\n",
      "alpha[2]    33.87    0.73  26.48   4.62  14.82  26.71  45.08  102.1   1334    1.0\n",
      "alpha[3]     2.52    0.05   1.86   0.48   1.21   2.01   3.23   7.44   1467    1.0\n",
      "alpha[4]     1.41    0.02   0.94   0.31   0.76   1.17   1.78   3.82   1587    1.0\n",
      "theta[1,1]   0.35  2.8e-4   0.02    0.3   0.33   0.35   0.36   0.39   5941    1.0\n",
      "theta[2,1]   0.36  2.3e-4   0.02   0.33   0.35   0.36   0.38    0.4   5230    1.0\n",
      "theta[3,1]   0.31  2.7e-4   0.02   0.27    0.3   0.31   0.33   0.35   5152    1.0\n",
      "theta[1,2]   0.59  3.0e-4   0.02   0.55   0.58   0.59   0.61   0.64   5555    1.0\n",
      "theta[2,2]   0.59  2.4e-4   0.02   0.56   0.58   0.59    0.6   0.63   5325    1.0\n",
      "theta[3,2]    0.6  2.7e-4   0.02   0.56   0.59    0.6   0.62   0.64   5780    1.0\n",
      "theta[1,3]   0.04  1.2e-4 9.3e-3   0.03   0.04   0.04   0.05   0.06   5503    1.0\n",
      "theta[2,3]   0.03  8.1e-5 6.1e-3   0.02   0.03   0.03   0.04   0.05   5665    1.0\n",
      "theta[3,3]   0.05  1.4e-4 9.2e-3   0.04   0.05   0.05   0.06   0.07   4538    1.0\n",
      "theta[1,4]   0.02  8.5e-5 6.4e-3   0.01   0.02   0.02   0.02   0.04   5738    1.0\n",
      "theta[2,4]   0.01  5.3e-5 3.7e-3 5.2e-3 8.6e-3   0.01   0.01   0.02   4941    1.0\n",
      "theta[3,4]   0.03  9.8e-5 7.2e-3   0.02   0.03   0.03   0.04   0.05   5361    1.0\n",
      "lp__        -1575    0.07   2.71  -1581  -1577  -1575  -1573  -1571   1420    1.0\n",
      "\n",
      "Samples were drawn using NUTS at Tue Oct 23 17:30:56 2018.\n",
      "For each parameter, n_eff is a crude measure of effective sample size,\n",
      "and Rhat is the potential scale reduction factor on split chains (at \n",
      "convergence, Rhat=1).\n"
     ]
    }
   ],
   "source": [
    "stan_data_AK = {\n",
    "    'N': survey_results['Arkansas'].shape[0],\n",
    "    'C': survey_results['Arkansas'].shape[1],\n",
    "    'poll_re': survey_results['Arkansas']\n",
    "}\n",
    "results_AK = stan_model.sampling(data=stan_data_AK)\n",
    "print(results_AK)"
   ]
  },
  {
   "cell_type": "code",
   "execution_count": 7,
   "metadata": {
    "scrolled": true
   },
   "outputs": [
    {
     "name": "stdout",
     "output_type": "stream",
     "text": [
      "Inference for Stan model: anon_model_5f6f97d0de7367dfddef8c01864c8d88.\n",
      "4 chains, each with iter=2000; warmup=1000; thin=1; \n",
      "post-warmup draws per chain=1000, total post-warmup draws=4000.\n",
      "\n",
      "              mean se_mean     sd   2.5%    25%    50%    75%  97.5%  n_eff   Rhat\n",
      "alpha[1]     92.16    0.82  27.83  49.73  72.55   88.0  107.4 157.22   1138    1.0\n",
      "alpha[2]     83.84    0.75  25.35  45.12  65.54  80.07  98.16 143.07   1141    1.0\n",
      "alpha[3]     16.86    0.15   5.09   9.13   13.2  16.14  19.67  28.78   1127    1.0\n",
      "alpha[4]      5.84    0.05   1.77   3.11   4.57   5.59   6.82   9.88   1108    1.0\n",
      "theta[1,1]    0.46  1.9e-4   0.01   0.43   0.45   0.46   0.47   0.49   5523    1.0\n",
      "theta[2,1]    0.48  2.8e-4   0.02   0.44   0.46   0.48   0.49   0.52   5065    1.0\n",
      "theta[3,1]    0.45  2.4e-4   0.02   0.42   0.44   0.45   0.47   0.49   6249    1.0\n",
      "theta[4,1]    0.46  2.3e-4   0.02   0.42   0.45   0.46   0.47   0.49   5405    1.0\n",
      "theta[5,1]    0.47  2.4e-4   0.02   0.44   0.46   0.47   0.48   0.51   5418    1.0\n",
      "theta[6,1]    0.49  2.7e-4   0.02   0.45   0.48   0.49   0.51   0.53   5548    1.0\n",
      "theta[7,1]    0.48  2.6e-4   0.02   0.45   0.47   0.48    0.5   0.52   5568    1.0\n",
      "theta[8,1]    0.48  2.4e-4   0.02   0.45   0.47   0.48    0.5   0.52   5299    1.0\n",
      "theta[9,1]    0.42  2.2e-4   0.02   0.39   0.41   0.42   0.44   0.46   5252    1.0\n",
      "theta[10,1]   0.46  2.1e-4   0.02   0.43   0.45   0.46   0.47   0.49   5595    1.0\n",
      "theta[11,1]   0.45  2.4e-4   0.02   0.42   0.44   0.45   0.46   0.49   5138    1.0\n",
      "theta[12,1]   0.46  2.7e-4   0.02   0.42   0.45   0.46   0.47    0.5   4870    1.0\n",
      "theta[13,1]   0.42  2.9e-4   0.02   0.38    0.4   0.42   0.43   0.45   4094    1.0\n",
      "theta[14,1]   0.49  2.3e-4   0.02   0.45   0.48   0.49    0.5   0.52   5667    1.0\n",
      "theta[15,1]   0.47  2.5e-4   0.02   0.44   0.46   0.47   0.49   0.51   5417    1.0\n",
      "theta[16,1]   0.47  2.1e-4   0.02   0.44   0.46   0.47   0.48    0.5   5387    1.0\n",
      "theta[1,2]    0.45  1.9e-4   0.01   0.42   0.44   0.45   0.46   0.47   5560    1.0\n",
      "theta[2,2]    0.42  2.6e-4   0.02   0.38   0.41   0.42   0.43   0.46   5662    1.0\n",
      "theta[3,2]    0.44  2.5e-4   0.02    0.4   0.43   0.44   0.45   0.48   5882    1.0\n",
      "theta[4,2]    0.42  2.2e-4   0.02   0.39   0.41   0.42   0.43   0.45   5552    1.0\n",
      "theta[5,2]     0.4  2.4e-4   0.02   0.36   0.39    0.4   0.41   0.43   4957    1.0\n",
      "theta[6,2]     0.4  2.7e-4   0.02   0.36   0.39    0.4   0.42   0.44   5614    1.0\n",
      "theta[7,2]    0.38  2.7e-4   0.02   0.35   0.37   0.38   0.39   0.42   4846    1.0\n",
      "theta[8,2]    0.43  2.3e-4   0.02   0.39   0.41   0.43   0.44   0.46   5559    1.0\n",
      "theta[9,2]    0.42  2.1e-4   0.02   0.39   0.41   0.42   0.43   0.46   5748    1.0\n",
      "theta[10,2]   0.44  2.1e-4   0.02   0.41   0.43   0.44   0.45   0.47   5112    1.0\n",
      "theta[11,2]   0.43  2.5e-4   0.02   0.39   0.42   0.43   0.44   0.46   4932    1.0\n",
      "theta[12,2]   0.39  2.9e-4   0.02   0.35   0.38   0.39    0.4   0.43   4335    1.0\n",
      "theta[13,2]   0.44  2.5e-4   0.02    0.4   0.42   0.44   0.45   0.47   5176    1.0\n",
      "theta[14,2]   0.44  2.2e-4   0.02    0.4   0.43   0.44   0.45   0.47   5854    1.0\n",
      "theta[15,2]   0.42  2.5e-4   0.02   0.39   0.41   0.42   0.43   0.46   5215    1.0\n",
      "theta[16,2]   0.43  2.1e-4   0.02    0.4   0.42   0.43   0.44   0.46   5284    1.0\n",
      "theta[1,3]    0.06  8.6e-5 6.3e-3   0.04   0.05   0.06   0.06   0.07   5360    1.0\n",
      "theta[2,3]    0.08  1.4e-4   0.01   0.06   0.07   0.08   0.09    0.1   5725    1.0\n",
      "theta[3,3]    0.06  1.4e-4 9.7e-3   0.05   0.06   0.06   0.07   0.08   5014    1.0\n",
      "theta[4,3]    0.08  1.2e-4 9.4e-3   0.07   0.08   0.08   0.09    0.1   6252    1.0\n",
      "theta[5,3]     0.1  1.5e-4   0.01   0.08   0.09    0.1   0.11   0.12   4823    1.0\n",
      "theta[6,3]    0.08  1.6e-4   0.01   0.06   0.07   0.08   0.08    0.1   5055    1.0\n",
      "theta[7,3]     0.1  1.6e-4   0.01   0.08    0.1    0.1   0.11   0.13   4757    1.0\n",
      "theta[8,3]    0.07  1.2e-4 8.9e-3   0.05   0.06   0.07   0.07   0.09   5243    1.0\n",
      "theta[9,3]    0.12  1.6e-4   0.01    0.1   0.11   0.12   0.13   0.14   4778    1.0\n",
      "theta[10,3]   0.08  1.1e-4 8.3e-3   0.06   0.07   0.08   0.09    0.1   5581    1.0\n",
      "theta[11,3]    0.1  1.4e-4   0.01   0.08   0.09    0.1    0.1   0.12   5864    1.0\n",
      "theta[12,3]   0.12  1.9e-4   0.01    0.1   0.11   0.12   0.13   0.15   4423    1.0\n",
      "theta[13,3]   0.12  1.8e-4   0.01    0.1   0.12   0.12   0.13   0.15   4818    1.0\n",
      "theta[14,3]   0.05  1.2e-4 7.7e-3   0.04   0.05   0.05   0.06   0.07   4261    1.0\n",
      "theta[15,3]   0.08  1.4e-4   0.01   0.06   0.07   0.08   0.09    0.1   5280    1.0\n",
      "theta[16,3]   0.08  1.1e-4 8.2e-3   0.06   0.07   0.08   0.08    0.1   5952    1.0\n",
      "theta[1,4]    0.04  7.1e-5 5.2e-3   0.03   0.04   0.04   0.04   0.05   5337    1.0\n",
      "theta[2,4]    0.02  8.2e-5 6.1e-3   0.01   0.02   0.02   0.03   0.04   5511    1.0\n",
      "theta[3,4]    0.04  1.1e-4 7.8e-3   0.03   0.04   0.04   0.05   0.06   5022    1.0\n",
      "theta[4,4]    0.04  8.9e-5 6.6e-3   0.03   0.03   0.04   0.04   0.05   5458    1.0\n",
      "theta[5,4]    0.03  8.0e-5 6.1e-3   0.02   0.03   0.03   0.03   0.04   5758    1.0\n",
      "theta[6,4]    0.03  9.8e-5 7.1e-3   0.02   0.03   0.03   0.03   0.05   5341    1.0\n",
      "theta[7,4]    0.03  8.9e-5 6.7e-3   0.02   0.03   0.03   0.04   0.05   5666    1.0\n",
      "theta[8,4]    0.02  6.6e-5 5.1e-3   0.01   0.02   0.02   0.03   0.03   5983    1.0\n",
      "theta[9,4]    0.03  7.7e-5 5.6e-3   0.02   0.03   0.03   0.03   0.04   5318    1.0\n",
      "theta[10,4]   0.02  6.1e-5 4.7e-3   0.01   0.02   0.02   0.03   0.03   6006    1.0\n",
      "theta[11,4]   0.02  7.3e-5 5.2e-3   0.01   0.02   0.02   0.02   0.03   5096    1.0\n",
      "theta[12,4]   0.03  9.5e-5 6.7e-3   0.02   0.03   0.03   0.04   0.05   5026    1.0\n",
      "theta[13,4]   0.02  7.6e-5 5.5e-3   0.01   0.02   0.02   0.03   0.04   5242    1.0\n",
      "theta[14,4]   0.02  6.4e-5 5.1e-3   0.01   0.02   0.02   0.03   0.03   6377    1.0\n",
      "theta[15,4]   0.02  8.1e-5 5.9e-3   0.01   0.02   0.02   0.03   0.04   5254    1.0\n",
      "theta[16,4]   0.02  5.8e-5 4.4e-3   0.01   0.02   0.02   0.03   0.03   5763    1.0\n",
      "lp__        -1.1e4    0.15   5.49 -1.1e4 -1.1e4 -1.1e4 -1.1e4 -1.1e4   1353    1.0\n",
      "\n",
      "Samples were drawn using NUTS at Tue Oct 23 17:30:33 2018.\n",
      "For each parameter, n_eff is a crude measure of effective sample size,\n",
      "and Rhat is the potential scale reduction factor on split chains (at \n",
      "convergence, Rhat=1).\n"
     ]
    }
   ],
   "source": [
    "stan_data_CO = {\n",
    "    'N': survey_results['Colorado'].shape[0],\n",
    "    'C': survey_results['Colorado'].shape[1],\n",
    "    'poll_re': survey_results['Colorado']\n",
    "}\n",
    "results_CO = stan_model.sampling(data=stan_data_CO)\n",
    "print(results_CO)"
   ]
  },
  {
   "cell_type": "code",
   "execution_count": 13,
   "metadata": {},
   "outputs": [],
   "source": [
    "alpha_AL = results_AL.extract()['alpha']\n",
    "alpha_AR = results_AR.extract()['alpha']\n",
    "alpha_AK = results_AK.extract()['alpha']\n",
    "alpha_CO = results_CO.extract()['alpha']"
   ]
  },
  {
   "cell_type": "code",
   "execution_count": 14,
   "metadata": {},
   "outputs": [
    {
     "data": {
      "image/png": "[encoded data removed]",
      "text/plain": [
       "<Figure size 720x720 with 4 Axes>"
      ]
     },
     "metadata": {
      "needs_background": "light"
     },
     "output_type": "display_data"
    }
   ],
   "source": [
    "plt.figure(figsize=(10,10))\n",
    "\n",
    "plt.subplot(2,2,1)\n",
    "plt.boxplot(alpha_AL[:,:], labels=['Dem', 'Rep', 'Lib', 'Gre'])\n",
    "plt.title('AL')\n",
    "\n",
    "plt.subplot(2,2,2)\n",
    "plt.boxplot(alpha_AR[:,:], labels=['Dem', 'Rep', 'Lib', 'Gre'])\n",
    "plt.title('AR')\n",
    "\n",
    "plt.subplot(2,2,3)\n",
    "plt.boxplot(alpha_AK[:,:], labels=['Dem', 'Rep', 'Lib', 'Gre'])\n",
    "plt.title('AK')\n",
    "\n",
    "plt.subplot(2,2,4)\n",
    "plt.boxplot(alpha_CO[:,:], labels=['Dem', 'Rep', 'Lib', 'Gre'])\n",
    "plt.title('CO')\n",
    "plt.show()"
   ]
  },
  {
   "cell_type": "markdown",
   "metadata": {},
   "source": [
    "From the modeling persective since we are sampling from a Cauchy distribution, the value of $\\alpha$ can vary a lot between each sample. Moreover, there are different number of polls conducted in each state so the posterior distribution of $\\alpha$ in each state will be quite different: for example, in Arizona there are 19 polls conducted, making the posterior of $\\alpha$ larger so the variance of the Dirichlet drawn from this posterior sample will be smaller, meaning we are more sure about the probablity of each candidate being chosen (which makes sense since we have more data to begin with). \n",
    "\n",
    "From the practical perspective, because each state in the US is vastly different interns of its political tendency, and also in terms of the way polls are conducted, we observed really different statistical results from the same model when we incorporate data from different states. "
   ]
  },
  {
   "cell_type": "code",
   "execution_count": 15,
   "metadata": {},
   "outputs": [],
   "source": [
    "from scipy.stats import dirichlet, multinomial\n",
    "\n",
    "AL_ps, AK_ps, AR_ps, CO_ps = np.zeros(shape=(4000,4)),np.zeros(shape=(4000,4)),np.zeros(shape=(4000,4)),np.zeros(shape=(4000,4))\n",
    "\n",
    "for _ in range(4000):\n",
    "    AL_ps[_] = dirichlet(alpha_AL[_,:]).rvs()\n",
    "    AK_ps[_] = dirichlet(alpha_AK[_,:]).rvs()        \n",
    "    AR_ps[_] = dirichlet(alpha_AR[_,:]).rvs()\n",
    "    CO_ps[_] = dirichlet(alpha_CO[_,:]).rvs()"
   ]
  },
  {
   "cell_type": "code",
   "execution_count": 16,
   "metadata": {},
   "outputs": [
    {
     "data": {
      "image/png": "[encoded data removed]",
      "text/plain": [
       "<Figure size 720x720 with 4 Axes>"
      ]
     },
     "metadata": {
      "needs_background": "light"
     },
     "output_type": "display_data"
    }
   ],
   "source": [
    "plt.figure(figsize=(10,10))\n",
    "\n",
    "plt.subplot(2,2,1)\n",
    "plt.boxplot(AL_ps, labels=['Dem', 'Rep', 'Lib', 'Gre'])\n",
    "plt.title('AL')\n",
    "\n",
    "plt.subplot(2,2,2)\n",
    "plt.boxplot(AR_ps, labels=['Dem', 'Rep', 'Lib', 'Gre'])\n",
    "plt.title('AR')\n",
    "\n",
    "plt.subplot(2,2,3)\n",
    "plt.boxplot(AK_ps, labels=['Dem', 'Rep', 'Lib', 'Gre'])\n",
    "plt.title('AK')\n",
    "\n",
    "plt.subplot(2,2,4)\n",
    "plt.boxplot(CO_ps, labels=['Dem', 'Rep', 'Lib', 'Gre'])\n",
    "plt.title('CO')\n",
    "plt.show()"
   ]
  },
  {
   "cell_type": "code",
   "execution_count": 30,
   "metadata": {},
   "outputs": [
    {
     "name": "stdout",
     "output_type": "stream",
     "text": [
      "[0.45475, 0.5335, 0.01025, 0.0015]\n",
      "[0.0815, 0.916, 0.0015, 0.001]\n",
      "[0.4065, 0.5935, 0.0, 0.0]\n",
      "[0.71975, 0.28025, 0.0, 0.0]\n"
     ]
    }
   ],
   "source": [
    "# count = 0 \n",
    "# for _ in range(4000):\n",
    "#     if CO_ps[_,0] > CO_ps[_,1]:\n",
    "#         count+=1\n",
    "# print(count/4000)\n",
    "\n",
    "def prob_wins(ps):\n",
    "    count_0, count_1, count_2, count_3 = 0,0,0,0\n",
    "    for _ in range(4000):\n",
    "        if np.argmax(ps[_,:]) == 0: \n",
    "            count_0+=1\n",
    "        elif np.argmax(ps[_,:]) == 1: \n",
    "            count_1+=1\n",
    "        elif np.argmax(ps[_,:]) == 2: \n",
    "            count_2+=1\n",
    "        elif np.argmax(ps[_,:]) == 3: \n",
    "            count_3+=1\n",
    "    print([count_0/4000, count_1/4000, count_2/4000, count_3/4000])\n",
    "prob_wins(AL_ps)\n",
    "prob_wins(AK_ps)\n",
    "prob_wins(AR_ps)\n",
    "prob_wins(CO_ps)"
   ]
  },
  {
   "cell_type": "code",
   "execution_count": 17,
   "metadata": {},
   "outputs": [
    {
     "name": "stdout",
     "output_type": "stream",
     "text": [
      "Probability of [Dem, Rep, Lib, Gre] will win in AL: [0.40700512 0.42381802 0.11794201 0.05123485]\n",
      "Probability of [Dem, Rep, Lib, Gre] will win in AK: [0.33577445 0.58394287 0.04971348 0.0305692 ]\n",
      "Probability of [Dem, Rep, Lib, Gre] will win in AR: [0.4512604  0.46894203 0.06161116 0.01818642]\n",
      "Probability of [Dem, Rep, Lib, Gre] will win in CO: [0.46351503 0.42231774 0.08483758 0.02932964]\n"
     ]
    }
   ],
   "source": [
    "print('Probability of [Dem, Rep, Lib, Gre] will win in AL:', np.mean(AL_ps,axis=0))\n",
    "print('Probability of [Dem, Rep, Lib, Gre] will win in AK:', np.mean(AK_ps,axis=0))\n",
    "print('Probability of [Dem, Rep, Lib, Gre] will win in AR:', np.mean(AR_ps,axis=0))\n",
    "print('Probability of [Dem, Rep, Lib, Gre] will win in CO:', np.mean(CO_ps,axis=0))"
   ]
  },
  {
   "cell_type": "code",
   "execution_count": 18,
   "metadata": {},
   "outputs": [],
   "source": [
    "AL_votes, AK_votes, AR_votes, CO_votes = np.zeros(shape=(4000,4)),np.zeros(shape=(4000,4)),np.zeros(shape=(4000,4)),np.zeros(shape=(4000,4))\n",
    "\n",
    "for _ in range(4000):\n",
    "    AL_votes[_] = multinomial(electoral_votes['Alaska'], AL_ps[_,:]).rvs()\n",
    "    AK_votes[_] = multinomial(electoral_votes['Arkansas'],  AK_ps[_,:]).rvs()        \n",
    "    AR_votes[_] = multinomial(electoral_votes['Arizona'], AR_ps[_,:]).rvs()\n",
    "    CO_votes[_] = multinomial(electoral_votes['Colorado'], CO_ps[_,:]).rvs()"
   ]
  },
  {
   "cell_type": "code",
   "execution_count": 19,
   "metadata": {},
   "outputs": [
    {
     "name": "stdout",
     "output_type": "stream",
     "text": [
      "Number of votes for [Dem, Rep, Lib, Gre] in AL: [1.214   1.27375 0.367   0.14525]\n",
      "Number of votes for [Dem, Rep, Lib, Gre] in AK: [2.02275 3.4915  0.307   0.17875]\n",
      "Number of votes for [Dem, Rep, Lib, Gre] in AR: [4.934   5.18125 0.6865  0.19825]\n",
      "Number of votes for [Dem, Rep, Lib, Gre] in CO: [4.175   3.8     0.76125 0.26375]\n"
     ]
    }
   ],
   "source": [
    "print('Number of votes for [Dem, Rep, Lib, Gre] in AL:', np.mean(AL_votes,axis=0))\n",
    "print('Number of votes for [Dem, Rep, Lib, Gre] in AK:', np.mean(AK_votes,axis=0))\n",
    "print('Number of votes for [Dem, Rep, Lib, Gre] in AR:', np.mean(AR_votes,axis=0))\n",
    "print('Number of votes for [Dem, Rep, Lib, Gre] in CO:', np.mean(CO_votes,axis=0))"
   ]
  },
  {
   "cell_type": "code",
   "execution_count": 32,
   "metadata": {},
   "outputs": [
    {
     "name": "stdout",
     "output_type": "stream",
     "text": [
      "[0.5275, 0.404, 0.05525, 0.01325]\n",
      "[0.35875, 0.63, 0.00825, 0.003]\n",
      "[0.51825, 0.481, 0.00075, 0.0]\n",
      "[0.6055, 0.3905, 0.004, 0.0]\n"
     ]
    }
   ],
   "source": [
    "prob_wins(AL_votes)\n",
    "prob_wins(AK_votes)\n",
    "prob_wins(AR_votes)\n",
    "prob_wins(CO_votes)"
   ]
  }
 ],
 "metadata": {
  "kernelspec": {
   "display_name": "Python 3",
   "language": "python",
   "name": "python3"
  },
  "language_info": {
   "codemirror_mode": {
    "name": "ipython",
    "version": 3
   },
   "file_extension": ".py",
   "mimetype": "text/x-python",
   "name": "python",
   "nbconvert_exporter": "python",
   "pygments_lexer": "ipython3",
   "version": "3.6.6"
  }
 },
 "nbformat": 4,
 "nbformat_minor": 2
}
